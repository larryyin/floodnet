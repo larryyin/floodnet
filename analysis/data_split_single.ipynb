{
 "cells": [
  {
   "cell_type": "code",
   "execution_count": 1,
   "metadata": {},
   "outputs": [],
   "source": [
    "import os\n",
    "import pandas as pd\n",
    "import numpy as np\n",
    "\n",
    "# To plot pretty figures\n",
    "%matplotlib inline\n",
    "import matplotlib\n",
    "import matplotlib.pyplot as plt\n",
    "plt.rcParams['axes.labelsize'] = 14\n",
    "plt.rcParams['xtick.labelsize'] = 12\n",
    "plt.rcParams['ytick.labelsize'] = 12\n",
    "\n",
    "# Where to save the figures\n",
    "IMAGES_PATH = 'img/'\n",
    "\n",
    "def save_fig(fig_id, tight_layout=True, fig_extension=\"png\", resolution=300):\n",
    "    path = os.path.join(IMAGES_PATH, fig_id + \".\" + fig_extension)\n",
    "    print(\"Saving figure\", fig_id)\n",
    "    if tight_layout:\n",
    "        plt.tight_layout()\n",
    "    plt.savefig(path, format=fig_extension, dpi=resolution)"
   ]
  },
  {
   "cell_type": "code",
   "execution_count": 2,
   "metadata": {},
   "outputs": [],
   "source": [
    "T = pd.read_csv('series/'+'obs_h'+'.csv',header=0,index_col=0,parse_dates=True)\n",
    "\n",
    "TQ_bool = T.resample('M').count()>2\n",
    "nstation = len(TQ_bool.columns)\n",
    "TQ_bool_sum = TQ_bool.sum().sort_values(ascending=False)\n",
    "TQ_bool = TQ_bool[TQ_bool_sum.index]\n",
    "TQ = TQ_bool*np.arange(nstation)\n",
    "TQ[~TQ_bool] = np.nan"
   ]
  },
  {
   "cell_type": "code",
   "execution_count": 3,
   "metadata": {},
   "outputs": [
    {
     "data": {
      "text/plain": [
       "Absecon_Creek__Rte_30_at_Absecon_NJ           119\n",
       "Rockaway_Inlet_near_Floyd_Bennett_Field_NY    119\n",
       "Barnegat_Bay_at_Barnegat_Light_NJ             119\n",
       "Barnegat_Bay_at_Mantoloking_NJ                119\n",
       "East_Rockaway_Inlet_at_Atlantic_Beach_NY      119\n",
       "dtype: int64"
      ]
     },
     "execution_count": 3,
     "metadata": {},
     "output_type": "execute_result"
    }
   ],
   "source": [
    "TQ_bool_sum.head()"
   ]
  },
  {
   "cell_type": "code",
   "execution_count": 4,
   "metadata": {},
   "outputs": [],
   "source": [
    "station = 'Rockaway_Inlet_near_Floyd_Bennett_Field_NY'\n",
    "x_len = 24\n",
    "y_len = 6\n",
    "period = x_len+y_len\n",
    "dir0 = 'tests/{:s}_{:d}_{:d}'.format(station,x_len,y_len)"
   ]
  },
  {
   "cell_type": "code",
   "execution_count": 5,
   "metadata": {},
   "outputs": [],
   "source": [
    "T = T[station]"
   ]
  },
  {
   "cell_type": "code",
   "execution_count": 6,
   "metadata": {},
   "outputs": [
    {
     "data": {
      "image/png": "[encoded data removed]",
      "text/plain": [
       "<matplotlib.figure.Figure at 0x7fc76c22df98>"
      ]
     },
     "metadata": {},
     "output_type": "display_data"
    }
   ],
   "source": [
    "T['2012-10-25':'2012-11-02'].plot();"
   ]
  },
  {
   "cell_type": "code",
   "execution_count": 7,
   "metadata": {},
   "outputs": [],
   "source": [
    "T_cont = T.dropna(how='any').to_frame()"
   ]
  },
  {
   "cell_type": "code",
   "execution_count": 8,
   "metadata": {},
   "outputs": [],
   "source": [
    "T_cont['tdiff'] = np.zeros(len(T_cont))\n",
    "T_cont.loc[1:,'tdiff'] = (T_cont.index[1:]-T_cont.index[:-1])/pd.Timedelta('1H')"
   ]
  },
  {
   "cell_type": "code",
   "execution_count": 9,
   "metadata": {},
   "outputs": [],
   "source": [
    "T_cont['isSample'] = T_cont['tdiff'].rolling(period-1).sum()==(period-1)"
   ]
  },
  {
   "cell_type": "code",
   "execution_count": 10,
   "metadata": {},
   "outputs": [
    {
     "data": {
      "text/html": [
       "<div>\n",
       "<style scoped>\n",
       "    .dataframe tbody tr th:only-of-type {\n",
       "        vertical-align: middle;\n",
       "    }\n",
       "\n",
       "    .dataframe tbody tr th {\n",
       "        vertical-align: top;\n",
       "    }\n",
       "\n",
       "    .dataframe thead th {\n",
       "        text-align: right;\n",
       "    }\n",
       "</style>\n",
       "<table border=\"1\" class=\"dataframe\">\n",
       "  <thead>\n",
       "    <tr style=\"text-align: right;\">\n",
       "      <th></th>\n",
       "      <th>Rockaway_Inlet_near_Floyd_Bennett_Field_NY</th>\n",
       "      <th>tdiff</th>\n",
       "      <th>isSample</th>\n",
       "    </tr>\n",
       "    <tr>\n",
       "      <th>t</th>\n",
       "      <th></th>\n",
       "      <th></th>\n",
       "      <th></th>\n",
       "    </tr>\n",
       "  </thead>\n",
       "  <tbody>\n",
       "    <tr>\n",
       "      <th>2007-03-08 21:00:00</th>\n",
       "      <td>-1.167404</td>\n",
       "      <td>17.0</td>\n",
       "      <td>False</td>\n",
       "    </tr>\n",
       "    <tr>\n",
       "      <th>2007-03-11 08:00:00</th>\n",
       "      <td>-0.293542</td>\n",
       "      <td>2.0</td>\n",
       "      <td>False</td>\n",
       "    </tr>\n",
       "    <tr>\n",
       "      <th>2007-04-08 09:00:00</th>\n",
       "      <td>-0.753790</td>\n",
       "      <td>2.0</td>\n",
       "      <td>False</td>\n",
       "    </tr>\n",
       "    <tr>\n",
       "      <th>2007-04-13 14:00:00</th>\n",
       "      <td>-0.925088</td>\n",
       "      <td>2.0</td>\n",
       "      <td>False</td>\n",
       "    </tr>\n",
       "    <tr>\n",
       "      <th>2007-06-21 05:00:00</th>\n",
       "      <td>0.657129</td>\n",
       "      <td>2.0</td>\n",
       "      <td>False</td>\n",
       "    </tr>\n",
       "    <tr>\n",
       "      <th>2007-08-01 20:00:00</th>\n",
       "      <td>-0.820542</td>\n",
       "      <td>2.0</td>\n",
       "      <td>False</td>\n",
       "    </tr>\n",
       "    <tr>\n",
       "      <th>2007-08-14 16:00:00</th>\n",
       "      <td>0.088067</td>\n",
       "      <td>2.0</td>\n",
       "      <td>False</td>\n",
       "    </tr>\n",
       "    <tr>\n",
       "      <th>2007-09-16 16:00:00</th>\n",
       "      <td>0.591597</td>\n",
       "      <td>3.0</td>\n",
       "      <td>False</td>\n",
       "    </tr>\n",
       "    <tr>\n",
       "      <th>2007-11-04 11:00:00</th>\n",
       "      <td>-0.003982</td>\n",
       "      <td>2.0</td>\n",
       "      <td>False</td>\n",
       "    </tr>\n",
       "    <tr>\n",
       "      <th>2007-12-03 11:00:00</th>\n",
       "      <td>-0.055798</td>\n",
       "      <td>6.0</td>\n",
       "      <td>False</td>\n",
       "    </tr>\n",
       "  </tbody>\n",
       "</table>\n",
       "</div>"
      ],
      "text/plain": [
       "                     Rockaway_Inlet_near_Floyd_Bennett_Field_NY  tdiff  \\\n",
       "t                                                                        \n",
       "2007-03-08 21:00:00                                   -1.167404   17.0   \n",
       "2007-03-11 08:00:00                                   -0.293542    2.0   \n",
       "2007-04-08 09:00:00                                   -0.753790    2.0   \n",
       "2007-04-13 14:00:00                                   -0.925088    2.0   \n",
       "2007-06-21 05:00:00                                    0.657129    2.0   \n",
       "2007-08-01 20:00:00                                   -0.820542    2.0   \n",
       "2007-08-14 16:00:00                                    0.088067    2.0   \n",
       "2007-09-16 16:00:00                                    0.591597    3.0   \n",
       "2007-11-04 11:00:00                                   -0.003982    2.0   \n",
       "2007-12-03 11:00:00                                   -0.055798    6.0   \n",
       "\n",
       "                     isSample  \n",
       "t                              \n",
       "2007-03-08 21:00:00     False  \n",
       "2007-03-11 08:00:00     False  \n",
       "2007-04-08 09:00:00     False  \n",
       "2007-04-13 14:00:00     False  \n",
       "2007-06-21 05:00:00     False  \n",
       "2007-08-01 20:00:00     False  \n",
       "2007-08-14 16:00:00     False  \n",
       "2007-09-16 16:00:00     False  \n",
       "2007-11-04 11:00:00     False  \n",
       "2007-12-03 11:00:00     False  "
      ]
     },
     "execution_count": 10,
     "metadata": {},
     "output_type": "execute_result"
    }
   ],
   "source": [
    "T_cont[T_cont['tdiff']>1].head(10)"
   ]
  },
  {
   "cell_type": "code",
   "execution_count": 11,
   "metadata": {},
   "outputs": [
    {
     "data": {
      "text/html": [
       "<div>\n",
       "<style scoped>\n",
       "    .dataframe tbody tr th:only-of-type {\n",
       "        vertical-align: middle;\n",
       "    }\n",
       "\n",
       "    .dataframe tbody tr th {\n",
       "        vertical-align: top;\n",
       "    }\n",
       "\n",
       "    .dataframe thead th {\n",
       "        text-align: right;\n",
       "    }\n",
       "</style>\n",
       "<table border=\"1\" class=\"dataframe\">\n",
       "  <thead>\n",
       "    <tr style=\"text-align: right;\">\n",
       "      <th></th>\n",
       "      <th>Rockaway_Inlet_near_Floyd_Bennett_Field_NY</th>\n",
       "      <th>tdiff</th>\n",
       "      <th>isSample</th>\n",
       "    </tr>\n",
       "    <tr>\n",
       "      <th>t</th>\n",
       "      <th></th>\n",
       "      <th></th>\n",
       "      <th></th>\n",
       "    </tr>\n",
       "  </thead>\n",
       "  <tbody>\n",
       "    <tr>\n",
       "      <th>2007-03-07 20:00:00</th>\n",
       "      <td>-0.939414</td>\n",
       "      <td>1.0</td>\n",
       "      <td>True</td>\n",
       "    </tr>\n",
       "    <tr>\n",
       "      <th>2007-03-07 21:00:00</th>\n",
       "      <td>-0.905886</td>\n",
       "      <td>1.0</td>\n",
       "      <td>True</td>\n",
       "    </tr>\n",
       "    <tr>\n",
       "      <th>2007-03-07 22:00:00</th>\n",
       "      <td>-0.648025</td>\n",
       "      <td>1.0</td>\n",
       "      <td>True</td>\n",
       "    </tr>\n",
       "    <tr>\n",
       "      <th>2007-03-07 23:00:00</th>\n",
       "      <td>-0.257271</td>\n",
       "      <td>1.0</td>\n",
       "      <td>True</td>\n",
       "    </tr>\n",
       "    <tr>\n",
       "      <th>2007-03-08 00:00:00</th>\n",
       "      <td>0.107879</td>\n",
       "      <td>1.0</td>\n",
       "      <td>True</td>\n",
       "    </tr>\n",
       "    <tr>\n",
       "      <th>2007-03-08 01:00:00</th>\n",
       "      <td>0.373360</td>\n",
       "      <td>1.0</td>\n",
       "      <td>True</td>\n",
       "    </tr>\n",
       "    <tr>\n",
       "      <th>2007-03-08 02:00:00</th>\n",
       "      <td>0.469982</td>\n",
       "      <td>1.0</td>\n",
       "      <td>True</td>\n",
       "    </tr>\n",
       "    <tr>\n",
       "      <th>2007-03-08 03:00:00</th>\n",
       "      <td>0.407193</td>\n",
       "      <td>1.0</td>\n",
       "      <td>True</td>\n",
       "    </tr>\n",
       "    <tr>\n",
       "      <th>2007-03-08 04:00:00</th>\n",
       "      <td>0.273284</td>\n",
       "      <td>1.0</td>\n",
       "      <td>True</td>\n",
       "    </tr>\n",
       "    <tr>\n",
       "      <th>2007-03-08 21:00:00</th>\n",
       "      <td>-1.167404</td>\n",
       "      <td>17.0</td>\n",
       "      <td>False</td>\n",
       "    </tr>\n",
       "    <tr>\n",
       "      <th>2007-03-08 22:00:00</th>\n",
       "      <td>-1.055542</td>\n",
       "      <td>1.0</td>\n",
       "      <td>False</td>\n",
       "    </tr>\n",
       "    <tr>\n",
       "      <th>2007-03-08 23:00:00</th>\n",
       "      <td>-0.761715</td>\n",
       "      <td>1.0</td>\n",
       "      <td>False</td>\n",
       "    </tr>\n",
       "    <tr>\n",
       "      <th>2007-03-09 00:00:00</th>\n",
       "      <td>-0.380715</td>\n",
       "      <td>1.0</td>\n",
       "      <td>False</td>\n",
       "    </tr>\n",
       "    <tr>\n",
       "      <th>2007-03-09 01:00:00</th>\n",
       "      <td>-0.059151</td>\n",
       "      <td>1.0</td>\n",
       "      <td>False</td>\n",
       "    </tr>\n",
       "    <tr>\n",
       "      <th>2007-03-09 02:00:00</th>\n",
       "      <td>0.131958</td>\n",
       "      <td>1.0</td>\n",
       "      <td>False</td>\n",
       "    </tr>\n",
       "    <tr>\n",
       "      <th>2007-03-09 03:00:00</th>\n",
       "      <td>0.173411</td>\n",
       "      <td>1.0</td>\n",
       "      <td>False</td>\n",
       "    </tr>\n",
       "    <tr>\n",
       "      <th>2007-03-09 04:00:00</th>\n",
       "      <td>0.149332</td>\n",
       "      <td>1.0</td>\n",
       "      <td>False</td>\n",
       "    </tr>\n",
       "    <tr>\n",
       "      <th>2007-03-09 05:00:00</th>\n",
       "      <td>0.070998</td>\n",
       "      <td>1.0</td>\n",
       "      <td>False</td>\n",
       "    </tr>\n",
       "    <tr>\n",
       "      <th>2007-03-09 06:00:00</th>\n",
       "      <td>-0.113406</td>\n",
       "      <td>1.0</td>\n",
       "      <td>False</td>\n",
       "    </tr>\n",
       "    <tr>\n",
       "      <th>2007-03-09 07:00:00</th>\n",
       "      <td>-0.435884</td>\n",
       "      <td>1.0</td>\n",
       "      <td>False</td>\n",
       "    </tr>\n",
       "    <tr>\n",
       "      <th>2007-03-09 08:00:00</th>\n",
       "      <td>-0.764458</td>\n",
       "      <td>1.0</td>\n",
       "      <td>False</td>\n",
       "    </tr>\n",
       "    <tr>\n",
       "      <th>2007-03-09 09:00:00</th>\n",
       "      <td>-0.959835</td>\n",
       "      <td>1.0</td>\n",
       "      <td>False</td>\n",
       "    </tr>\n",
       "    <tr>\n",
       "      <th>2007-03-09 10:00:00</th>\n",
       "      <td>-0.913201</td>\n",
       "      <td>1.0</td>\n",
       "      <td>False</td>\n",
       "    </tr>\n",
       "    <tr>\n",
       "      <th>2007-03-09 11:00:00</th>\n",
       "      <td>-0.655950</td>\n",
       "      <td>1.0</td>\n",
       "      <td>False</td>\n",
       "    </tr>\n",
       "    <tr>\n",
       "      <th>2007-03-09 12:00:00</th>\n",
       "      <td>-0.316098</td>\n",
       "      <td>1.0</td>\n",
       "      <td>False</td>\n",
       "    </tr>\n",
       "    <tr>\n",
       "      <th>2007-03-09 13:00:00</th>\n",
       "      <td>-0.019527</td>\n",
       "      <td>1.0</td>\n",
       "      <td>False</td>\n",
       "    </tr>\n",
       "    <tr>\n",
       "      <th>2007-03-09 14:00:00</th>\n",
       "      <td>0.175240</td>\n",
       "      <td>1.0</td>\n",
       "      <td>False</td>\n",
       "    </tr>\n",
       "    <tr>\n",
       "      <th>2007-03-09 15:00:00</th>\n",
       "      <td>0.227361</td>\n",
       "      <td>1.0</td>\n",
       "      <td>False</td>\n",
       "    </tr>\n",
       "    <tr>\n",
       "      <th>2007-03-09 16:00:00</th>\n",
       "      <td>0.153904</td>\n",
       "      <td>1.0</td>\n",
       "      <td>False</td>\n",
       "    </tr>\n",
       "    <tr>\n",
       "      <th>2007-03-09 17:00:00</th>\n",
       "      <td>-0.010993</td>\n",
       "      <td>1.0</td>\n",
       "      <td>False</td>\n",
       "    </tr>\n",
       "    <tr>\n",
       "      <th>2007-03-09 18:00:00</th>\n",
       "      <td>-0.233192</td>\n",
       "      <td>1.0</td>\n",
       "      <td>False</td>\n",
       "    </tr>\n",
       "    <tr>\n",
       "      <th>2007-03-09 19:00:00</th>\n",
       "      <td>-0.463316</td>\n",
       "      <td>1.0</td>\n",
       "      <td>False</td>\n",
       "    </tr>\n",
       "    <tr>\n",
       "      <th>2007-03-09 20:00:00</th>\n",
       "      <td>-0.660826</td>\n",
       "      <td>1.0</td>\n",
       "      <td>False</td>\n",
       "    </tr>\n",
       "    <tr>\n",
       "      <th>2007-03-09 21:00:00</th>\n",
       "      <td>-0.784575</td>\n",
       "      <td>1.0</td>\n",
       "      <td>False</td>\n",
       "    </tr>\n",
       "    <tr>\n",
       "      <th>2007-03-09 22:00:00</th>\n",
       "      <td>-0.759277</td>\n",
       "      <td>1.0</td>\n",
       "      <td>False</td>\n",
       "    </tr>\n",
       "    <tr>\n",
       "      <th>2007-03-09 23:00:00</th>\n",
       "      <td>-0.552622</td>\n",
       "      <td>1.0</td>\n",
       "      <td>False</td>\n",
       "    </tr>\n",
       "    <tr>\n",
       "      <th>2007-03-10 00:00:00</th>\n",
       "      <td>-0.243250</td>\n",
       "      <td>1.0</td>\n",
       "      <td>False</td>\n",
       "    </tr>\n",
       "    <tr>\n",
       "      <th>2007-03-10 01:00:00</th>\n",
       "      <td>0.058806</td>\n",
       "      <td>1.0</td>\n",
       "      <td>False</td>\n",
       "    </tr>\n",
       "    <tr>\n",
       "      <th>2007-03-10 02:00:00</th>\n",
       "      <td>0.267899</td>\n",
       "      <td>1.0</td>\n",
       "      <td>True</td>\n",
       "    </tr>\n",
       "    <tr>\n",
       "      <th>2007-03-10 03:00:00</th>\n",
       "      <td>0.364826</td>\n",
       "      <td>1.0</td>\n",
       "      <td>True</td>\n",
       "    </tr>\n",
       "    <tr>\n",
       "      <th>2007-03-10 04:00:00</th>\n",
       "      <td>0.367772</td>\n",
       "      <td>1.0</td>\n",
       "      <td>True</td>\n",
       "    </tr>\n",
       "    <tr>\n",
       "      <th>2007-03-10 05:00:00</th>\n",
       "      <td>0.271862</td>\n",
       "      <td>1.0</td>\n",
       "      <td>True</td>\n",
       "    </tr>\n",
       "    <tr>\n",
       "      <th>2007-03-10 06:00:00</th>\n",
       "      <td>0.043262</td>\n",
       "      <td>1.0</td>\n",
       "      <td>True</td>\n",
       "    </tr>\n",
       "    <tr>\n",
       "      <th>2007-03-10 07:00:00</th>\n",
       "      <td>-0.276169</td>\n",
       "      <td>1.0</td>\n",
       "      <td>True</td>\n",
       "    </tr>\n",
       "    <tr>\n",
       "      <th>2007-03-10 08:00:00</th>\n",
       "      <td>-0.581274</td>\n",
       "      <td>1.0</td>\n",
       "      <td>True</td>\n",
       "    </tr>\n",
       "    <tr>\n",
       "      <th>2007-03-10 09:00:00</th>\n",
       "      <td>-0.787318</td>\n",
       "      <td>1.0</td>\n",
       "      <td>True</td>\n",
       "    </tr>\n",
       "    <tr>\n",
       "      <th>2007-03-10 10:00:00</th>\n",
       "      <td>-0.858879</td>\n",
       "      <td>1.0</td>\n",
       "      <td>True</td>\n",
       "    </tr>\n",
       "    <tr>\n",
       "      <th>2007-03-10 11:00:00</th>\n",
       "      <td>-0.775736</td>\n",
       "      <td>1.0</td>\n",
       "      <td>True</td>\n",
       "    </tr>\n",
       "    <tr>\n",
       "      <th>2007-03-10 12:00:00</th>\n",
       "      <td>-0.577006</td>\n",
       "      <td>1.0</td>\n",
       "      <td>True</td>\n",
       "    </tr>\n",
       "    <tr>\n",
       "      <th>2007-03-10 13:00:00</th>\n",
       "      <td>-0.334690</td>\n",
       "      <td>1.0</td>\n",
       "      <td>True</td>\n",
       "    </tr>\n",
       "    <tr>\n",
       "      <th>2007-03-10 14:00:00</th>\n",
       "      <td>-0.111882</td>\n",
       "      <td>1.0</td>\n",
       "      <td>True</td>\n",
       "    </tr>\n",
       "    <tr>\n",
       "      <th>2007-03-10 15:00:00</th>\n",
       "      <td>0.064598</td>\n",
       "      <td>1.0</td>\n",
       "      <td>True</td>\n",
       "    </tr>\n",
       "    <tr>\n",
       "      <th>2007-03-10 16:00:00</th>\n",
       "      <td>0.155428</td>\n",
       "      <td>1.0</td>\n",
       "      <td>True</td>\n",
       "    </tr>\n",
       "    <tr>\n",
       "      <th>2007-03-10 17:00:00</th>\n",
       "      <td>0.104831</td>\n",
       "      <td>1.0</td>\n",
       "      <td>True</td>\n",
       "    </tr>\n",
       "    <tr>\n",
       "      <th>2007-03-10 18:00:00</th>\n",
       "      <td>-0.086278</td>\n",
       "      <td>1.0</td>\n",
       "      <td>True</td>\n",
       "    </tr>\n",
       "    <tr>\n",
       "      <th>2007-03-10 19:00:00</th>\n",
       "      <td>-0.311221</td>\n",
       "      <td>1.0</td>\n",
       "      <td>True</td>\n",
       "    </tr>\n",
       "    <tr>\n",
       "      <th>2007-03-10 20:00:00</th>\n",
       "      <td>-0.496539</td>\n",
       "      <td>1.0</td>\n",
       "      <td>True</td>\n",
       "    </tr>\n",
       "    <tr>\n",
       "      <th>2007-03-10 21:00:00</th>\n",
       "      <td>-0.624250</td>\n",
       "      <td>1.0</td>\n",
       "      <td>True</td>\n",
       "    </tr>\n",
       "    <tr>\n",
       "      <th>2007-03-10 22:00:00</th>\n",
       "      <td>-0.680943</td>\n",
       "      <td>1.0</td>\n",
       "      <td>True</td>\n",
       "    </tr>\n",
       "    <tr>\n",
       "      <th>2007-03-10 23:00:00</th>\n",
       "      <td>-0.615106</td>\n",
       "      <td>1.0</td>\n",
       "      <td>True</td>\n",
       "    </tr>\n",
       "  </tbody>\n",
       "</table>\n",
       "</div>"
      ],
      "text/plain": [
       "                     Rockaway_Inlet_near_Floyd_Bennett_Field_NY  tdiff  \\\n",
       "t                                                                        \n",
       "2007-03-07 20:00:00                                   -0.939414    1.0   \n",
       "2007-03-07 21:00:00                                   -0.905886    1.0   \n",
       "2007-03-07 22:00:00                                   -0.648025    1.0   \n",
       "2007-03-07 23:00:00                                   -0.257271    1.0   \n",
       "2007-03-08 00:00:00                                    0.107879    1.0   \n",
       "2007-03-08 01:00:00                                    0.373360    1.0   \n",
       "2007-03-08 02:00:00                                    0.469982    1.0   \n",
       "2007-03-08 03:00:00                                    0.407193    1.0   \n",
       "2007-03-08 04:00:00                                    0.273284    1.0   \n",
       "2007-03-08 21:00:00                                   -1.167404   17.0   \n",
       "2007-03-08 22:00:00                                   -1.055542    1.0   \n",
       "2007-03-08 23:00:00                                   -0.761715    1.0   \n",
       "2007-03-09 00:00:00                                   -0.380715    1.0   \n",
       "2007-03-09 01:00:00                                   -0.059151    1.0   \n",
       "2007-03-09 02:00:00                                    0.131958    1.0   \n",
       "2007-03-09 03:00:00                                    0.173411    1.0   \n",
       "2007-03-09 04:00:00                                    0.149332    1.0   \n",
       "2007-03-09 05:00:00                                    0.070998    1.0   \n",
       "2007-03-09 06:00:00                                   -0.113406    1.0   \n",
       "2007-03-09 07:00:00                                   -0.435884    1.0   \n",
       "2007-03-09 08:00:00                                   -0.764458    1.0   \n",
       "2007-03-09 09:00:00                                   -0.959835    1.0   \n",
       "2007-03-09 10:00:00                                   -0.913201    1.0   \n",
       "2007-03-09 11:00:00                                   -0.655950    1.0   \n",
       "2007-03-09 12:00:00                                   -0.316098    1.0   \n",
       "2007-03-09 13:00:00                                   -0.019527    1.0   \n",
       "2007-03-09 14:00:00                                    0.175240    1.0   \n",
       "2007-03-09 15:00:00                                    0.227361    1.0   \n",
       "2007-03-09 16:00:00                                    0.153904    1.0   \n",
       "2007-03-09 17:00:00                                   -0.010993    1.0   \n",
       "2007-03-09 18:00:00                                   -0.233192    1.0   \n",
       "2007-03-09 19:00:00                                   -0.463316    1.0   \n",
       "2007-03-09 20:00:00                                   -0.660826    1.0   \n",
       "2007-03-09 21:00:00                                   -0.784575    1.0   \n",
       "2007-03-09 22:00:00                                   -0.759277    1.0   \n",
       "2007-03-09 23:00:00                                   -0.552622    1.0   \n",
       "2007-03-10 00:00:00                                   -0.243250    1.0   \n",
       "2007-03-10 01:00:00                                    0.058806    1.0   \n",
       "2007-03-10 02:00:00                                    0.267899    1.0   \n",
       "2007-03-10 03:00:00                                    0.364826    1.0   \n",
       "2007-03-10 04:00:00                                    0.367772    1.0   \n",
       "2007-03-10 05:00:00                                    0.271862    1.0   \n",
       "2007-03-10 06:00:00                                    0.043262    1.0   \n",
       "2007-03-10 07:00:00                                   -0.276169    1.0   \n",
       "2007-03-10 08:00:00                                   -0.581274    1.0   \n",
       "2007-03-10 09:00:00                                   -0.787318    1.0   \n",
       "2007-03-10 10:00:00                                   -0.858879    1.0   \n",
       "2007-03-10 11:00:00                                   -0.775736    1.0   \n",
       "2007-03-10 12:00:00                                   -0.577006    1.0   \n",
       "2007-03-10 13:00:00                                   -0.334690    1.0   \n",
       "2007-03-10 14:00:00                                   -0.111882    1.0   \n",
       "2007-03-10 15:00:00                                    0.064598    1.0   \n",
       "2007-03-10 16:00:00                                    0.155428    1.0   \n",
       "2007-03-10 17:00:00                                    0.104831    1.0   \n",
       "2007-03-10 18:00:00                                   -0.086278    1.0   \n",
       "2007-03-10 19:00:00                                   -0.311221    1.0   \n",
       "2007-03-10 20:00:00                                   -0.496539    1.0   \n",
       "2007-03-10 21:00:00                                   -0.624250    1.0   \n",
       "2007-03-10 22:00:00                                   -0.680943    1.0   \n",
       "2007-03-10 23:00:00                                   -0.615106    1.0   \n",
       "\n",
       "                     isSample  \n",
       "t                              \n",
       "2007-03-07 20:00:00      True  \n",
       "2007-03-07 21:00:00      True  \n",
       "2007-03-07 22:00:00      True  \n",
       "2007-03-07 23:00:00      True  \n",
       "2007-03-08 00:00:00      True  \n",
       "2007-03-08 01:00:00      True  \n",
       "2007-03-08 02:00:00      True  \n",
       "2007-03-08 03:00:00      True  \n",
       "2007-03-08 04:00:00      True  \n",
       "2007-03-08 21:00:00     False  \n",
       "2007-03-08 22:00:00     False  \n",
       "2007-03-08 23:00:00     False  \n",
       "2007-03-09 00:00:00     False  \n",
       "2007-03-09 01:00:00     False  \n",
       "2007-03-09 02:00:00     False  \n",
       "2007-03-09 03:00:00     False  \n",
       "2007-03-09 04:00:00     False  \n",
       "2007-03-09 05:00:00     False  \n",
       "2007-03-09 06:00:00     False  \n",
       "2007-03-09 07:00:00     False  \n",
       "2007-03-09 08:00:00     False  \n",
       "2007-03-09 09:00:00     False  \n",
       "2007-03-09 10:00:00     False  \n",
       "2007-03-09 11:00:00     False  \n",
       "2007-03-09 12:00:00     False  \n",
       "2007-03-09 13:00:00     False  \n",
       "2007-03-09 14:00:00     False  \n",
       "2007-03-09 15:00:00     False  \n",
       "2007-03-09 16:00:00     False  \n",
       "2007-03-09 17:00:00     False  \n",
       "2007-03-09 18:00:00     False  \n",
       "2007-03-09 19:00:00     False  \n",
       "2007-03-09 20:00:00     False  \n",
       "2007-03-09 21:00:00     False  \n",
       "2007-03-09 22:00:00     False  \n",
       "2007-03-09 23:00:00     False  \n",
       "2007-03-10 00:00:00     False  \n",
       "2007-03-10 01:00:00     False  \n",
       "2007-03-10 02:00:00      True  \n",
       "2007-03-10 03:00:00      True  \n",
       "2007-03-10 04:00:00      True  \n",
       "2007-03-10 05:00:00      True  \n",
       "2007-03-10 06:00:00      True  \n",
       "2007-03-10 07:00:00      True  \n",
       "2007-03-10 08:00:00      True  \n",
       "2007-03-10 09:00:00      True  \n",
       "2007-03-10 10:00:00      True  \n",
       "2007-03-10 11:00:00      True  \n",
       "2007-03-10 12:00:00      True  \n",
       "2007-03-10 13:00:00      True  \n",
       "2007-03-10 14:00:00      True  \n",
       "2007-03-10 15:00:00      True  \n",
       "2007-03-10 16:00:00      True  \n",
       "2007-03-10 17:00:00      True  \n",
       "2007-03-10 18:00:00      True  \n",
       "2007-03-10 19:00:00      True  \n",
       "2007-03-10 20:00:00      True  \n",
       "2007-03-10 21:00:00      True  \n",
       "2007-03-10 22:00:00      True  \n",
       "2007-03-10 23:00:00      True  "
      ]
     },
     "execution_count": 11,
     "metadata": {},
     "output_type": "execute_result"
    }
   ],
   "source": [
    "T_cont['2007-03-07 20:00:00':'2007-03-10 23:00:00']"
   ]
  },
  {
   "cell_type": "code",
   "execution_count": 12,
   "metadata": {},
   "outputs": [],
   "source": [
    "T_cont['month'] = T_cont.index.month\n",
    "T_avail = T_cont[T_cont['isSample']]"
   ]
  },
  {
   "cell_type": "code",
   "execution_count": 13,
   "metadata": {},
   "outputs": [
    {
     "data": {
      "text/html": [
       "<div>\n",
       "<style scoped>\n",
       "    .dataframe tbody tr th:only-of-type {\n",
       "        vertical-align: middle;\n",
       "    }\n",
       "\n",
       "    .dataframe tbody tr th {\n",
       "        vertical-align: top;\n",
       "    }\n",
       "\n",
       "    .dataframe thead th {\n",
       "        text-align: right;\n",
       "    }\n",
       "</style>\n",
       "<table border=\"1\" class=\"dataframe\">\n",
       "  <thead>\n",
       "    <tr style=\"text-align: right;\">\n",
       "      <th></th>\n",
       "      <th>Rockaway_Inlet_near_Floyd_Bennett_Field_NY</th>\n",
       "      <th>tdiff</th>\n",
       "      <th>isSample</th>\n",
       "      <th>month</th>\n",
       "    </tr>\n",
       "    <tr>\n",
       "      <th>t</th>\n",
       "      <th></th>\n",
       "      <th></th>\n",
       "      <th></th>\n",
       "      <th></th>\n",
       "    </tr>\n",
       "  </thead>\n",
       "  <tbody>\n",
       "    <tr>\n",
       "      <th>2007-03-05 10:00:00</th>\n",
       "      <td>-0.305430</td>\n",
       "      <td>1.0</td>\n",
       "      <td>True</td>\n",
       "      <td>3</td>\n",
       "    </tr>\n",
       "    <tr>\n",
       "      <th>2007-03-05 11:00:00</th>\n",
       "      <td>0.090810</td>\n",
       "      <td>1.0</td>\n",
       "      <td>True</td>\n",
       "      <td>3</td>\n",
       "    </tr>\n",
       "    <tr>\n",
       "      <th>2007-03-05 12:00:00</th>\n",
       "      <td>0.396220</td>\n",
       "      <td>1.0</td>\n",
       "      <td>True</td>\n",
       "      <td>3</td>\n",
       "    </tr>\n",
       "    <tr>\n",
       "      <th>2007-03-05 13:00:00</th>\n",
       "      <td>0.523931</td>\n",
       "      <td>1.0</td>\n",
       "      <td>True</td>\n",
       "      <td>3</td>\n",
       "    </tr>\n",
       "    <tr>\n",
       "      <th>2007-03-05 14:00:00</th>\n",
       "      <td>0.420299</td>\n",
       "      <td>1.0</td>\n",
       "      <td>True</td>\n",
       "      <td>3</td>\n",
       "    </tr>\n",
       "  </tbody>\n",
       "</table>\n",
       "</div>"
      ],
      "text/plain": [
       "                     Rockaway_Inlet_near_Floyd_Bennett_Field_NY  tdiff  \\\n",
       "t                                                                        \n",
       "2007-03-05 10:00:00                                   -0.305430    1.0   \n",
       "2007-03-05 11:00:00                                    0.090810    1.0   \n",
       "2007-03-05 12:00:00                                    0.396220    1.0   \n",
       "2007-03-05 13:00:00                                    0.523931    1.0   \n",
       "2007-03-05 14:00:00                                    0.420299    1.0   \n",
       "\n",
       "                     isSample  month  \n",
       "t                                     \n",
       "2007-03-05 10:00:00      True      3  \n",
       "2007-03-05 11:00:00      True      3  \n",
       "2007-03-05 12:00:00      True      3  \n",
       "2007-03-05 13:00:00      True      3  \n",
       "2007-03-05 14:00:00      True      3  "
      ]
     },
     "execution_count": 13,
     "metadata": {},
     "output_type": "execute_result"
    }
   ],
   "source": [
    "T_avail.head()"
   ]
  },
  {
   "cell_type": "code",
   "execution_count": 14,
   "metadata": {},
   "outputs": [
    {
     "name": "stdout",
     "output_type": "stream",
     "text": [
      "Saving figure 022_data_split_single\n",
      "Period =  30\n",
      "Available periods =  65452\n"
     ]
    },
    {
     "data": {
      "image/png": "[encoded data removed]",
      "text/plain": [
       "<matplotlib.figure.Figure at 0x7fc76c1c24e0>"
      ]
     },
     "metadata": {},
     "output_type": "display_data"
    }
   ],
   "source": [
    "TQ_bool = T_avail.iloc[:,:-3].resample('D').count()>2\n",
    "nstation = len(TQ_bool.columns)\n",
    "TQ_bool_sum = TQ_bool.sum().sort_values(ascending=False)\n",
    "TQ_bool = TQ_bool[TQ_bool_sum.index]\n",
    "TQ = TQ_bool*np.arange(nstation)\n",
    "TQ[~TQ_bool] = np.nan\n",
    "\n",
    "ax = TQ.plot(legend=False,figsize=(20,2),yticks=range(nstation),color='k')\n",
    "ax.set_yticklabels(list(TQ_bool_sum.index.values));\n",
    "ax.set_xlabel(' ');\n",
    "ax.set_title('Continuous 30H',fontsize=20);\n",
    "save_fig(\"022_data_split_single\");\n",
    "\n",
    "print(\"Period = \", period)\n",
    "print(\"Available periods = \", len(T_avail))"
   ]
  },
  {
   "cell_type": "code",
   "execution_count": 15,
   "metadata": {},
   "outputs": [
    {
     "data": {
      "image/png": "[encoded data removed]",
      "text/plain": [
       "<matplotlib.figure.Figure at 0x7fc73efd2518>"
      ]
     },
     "metadata": {},
     "output_type": "display_data"
    }
   ],
   "source": [
    "T_avail.groupby('month').count().iloc[:,0].plot('bar',color='k');"
   ]
  },
  {
   "cell_type": "code",
   "execution_count": 16,
   "metadata": {},
   "outputs": [
    {
     "data": {
      "image/png": "[encoded data removed]",
      "text/plain": [
       "<matplotlib.figure.Figure at 0x7fc73f0e9eb8>"
      ]
     },
     "metadata": {},
     "output_type": "display_data"
    },
    {
     "data": {
      "image/png": "[encoded data removed]",
      "text/plain": [
       "<matplotlib.figure.Figure at 0x7fc73f2abef0>"
      ]
     },
     "metadata": {},
     "output_type": "display_data"
    },
    {
     "data": {
      "image/png": "[encoded data removed]",
      "text/plain": [
       "<matplotlib.figure.Figure at 0x7fc73f4308d0>"
      ]
     },
     "metadata": {},
     "output_type": "display_data"
    },
    {
     "data": {
      "image/png": "[encoded data removed]",
      "text/plain": [
       "<matplotlib.figure.Figure at 0x7fc73f2dc748>"
      ]
     },
     "metadata": {},
     "output_type": "display_data"
    },
    {
     "data": {
      "image/png": "[encoded data removed]",
      "text/plain": [
       "<matplotlib.figure.Figure at 0x7fc73f0e9b70>"
      ]
     },
     "metadata": {},
     "output_type": "display_data"
    },
    {
     "data": {
      "image/png": "[encoded data removed]",
      "text/plain": [
       "<matplotlib.figure.Figure at 0x7fc73f0aafd0>"
      ]
     },
     "metadata": {},
     "output_type": "display_data"
    },
    {
     "data": {
      "image/png": "[encoded data removed]",
      "text/plain": [
       "<matplotlib.figure.Figure at 0x7fc73cf22a20>"
      ]
     },
     "metadata": {},
     "output_type": "display_data"
    },
    {
     "data": {
      "image/png": "[encoded data removed]",
      "text/plain": [
       "<matplotlib.figure.Figure at 0x7fc73ce544a8>"
      ]
     },
     "metadata": {},
     "output_type": "display_data"
    },
    {
     "data": {
      "image/png": "[encoded data removed]",
      "text/plain": [
       "<matplotlib.figure.Figure at 0x7fc73ce00240>"
      ]
     },
     "metadata": {},
     "output_type": "display_data"
    },
    {
     "data": {
      "image/png": "[encoded data removed]",
      "text/plain": [
       "<matplotlib.figure.Figure at 0x7fc73cd29c88>"
      ]
     },
     "metadata": {},
     "output_type": "display_data"
    },
    {
     "data": {
      "image/png": "[encoded data removed]",
      "text/plain": [
       "<matplotlib.figure.Figure at 0x7fc73ccd2a90>"
      ]
     },
     "metadata": {},
     "output_type": "display_data"
    },
    {
     "data": {
      "image/png": "[encoded data removed]",
      "text/plain": [
       "<matplotlib.figure.Figure at 0x7fc73cbfcf28>"
      ]
     },
     "metadata": {},
     "output_type": "display_data"
    }
   ],
   "source": [
    "T_avail.iloc[:,[0,-1]].groupby('month').hist(bins=50,color='k');"
   ]
  },
  {
   "cell_type": "code",
   "execution_count": 17,
   "metadata": {},
   "outputs": [],
   "source": [
    "T = T_cont"
   ]
  },
  {
   "cell_type": "code",
   "execution_count": 18,
   "metadata": {},
   "outputs": [],
   "source": [
    "T['i'] = np.arange(len(T)).astype(int)\n",
    "T['t'] = T.index\n",
    "T.set_index('i', inplace=True)"
   ]
  },
  {
   "cell_type": "code",
   "execution_count": null,
   "metadata": {},
   "outputs": [],
   "source": []
  },
  {
   "cell_type": "code",
   "execution_count": 19,
   "metadata": {},
   "outputs": [],
   "source": [
    "ids = T.index[T.isSample]\n",
    "cat = T.month[T.isSample].values\n",
    "D = T[station]"
   ]
  },
  {
   "cell_type": "code",
   "execution_count": 20,
   "metadata": {},
   "outputs": [],
   "source": [
    "from sklearn.model_selection import StratifiedShuffleSplit"
   ]
  },
  {
   "cell_type": "code",
   "execution_count": 21,
   "metadata": {},
   "outputs": [
    {
     "name": "stdout",
     "output_type": "stream",
     "text": [
      "58906 6546\n"
     ]
    }
   ],
   "source": [
    "split = StratifiedShuffleSplit(n_splits=1, test_size=.1, random_state=8)\n",
    "for train_index, test_index in split.split(ids, cat):\n",
    "    id_train = ids[train_index].values\n",
    "    id_test = ids[test_index].values\n",
    "    print(len(train_index),len(test_index))"
   ]
  },
  {
   "cell_type": "code",
   "execution_count": 22,
   "metadata": {},
   "outputs": [
    {
     "name": "stdout",
     "output_type": "stream",
     "text": [
      "(58906, 30) (6546, 30)\n"
     ]
    }
   ],
   "source": [
    "data_train = np.array([D[v-29:v+1].values for v in id_train])\n",
    "data_test = np.array([D[v-29:v+1].values for v in id_test])\n",
    "print(data_train.shape, data_test.shape)"
   ]
  },
  {
   "cell_type": "code",
   "execution_count": 23,
   "metadata": {},
   "outputs": [
    {
     "name": "stdout",
     "output_type": "stream",
     "text": [
      "X_train:  (58906, 24)\n",
      "Y_train:  (58906, 6)\n",
      "X_test:  (6546, 24)\n",
      "Y_test:  (6546, 6)\n"
     ]
    }
   ],
   "source": [
    "X_train = data_train[:,:x_len]\n",
    "Y_train = data_train[:,x_len:]\n",
    "X_test = data_test[:,:x_len]\n",
    "Y_test = data_test[:,x_len:]\n",
    "print('X_train: ', X_train.shape)\n",
    "print('Y_train: ', Y_train.shape)\n",
    "print('X_test: ', X_test.shape)\n",
    "print('Y_test: ', Y_test.shape)"
   ]
  },
  {
   "cell_type": "code",
   "execution_count": 24,
   "metadata": {},
   "outputs": [],
   "source": [
    "if not os.path.exists(dir0):\n",
    "    os.makedirs(dir0)"
   ]
  },
  {
   "cell_type": "code",
   "execution_count": 25,
   "metadata": {},
   "outputs": [],
   "source": [
    "np.savez(dir0+'/data', X_train=X_train,Y_train=Y_train,X_test=X_test,Y_test=Y_test)"
   ]
  },
  {
   "cell_type": "code",
   "execution_count": null,
   "metadata": {},
   "outputs": [],
   "source": []
  }
 ],
 "metadata": {
  "kernelspec": {
   "display_name": "Python 3",
   "language": "python",
   "name": "python3"
  },
  "language_info": {
   "codemirror_mode": {
    "name": "ipython",
    "version": 3
   },
   "file_extension": ".py",
   "mimetype": "text/x-python",
   "name": "python",
   "nbconvert_exporter": "python",
   "pygments_lexer": "ipython3",
   "version": "3.6.4"
  }
 },
 "nbformat": 4,
 "nbformat_minor": 2
}
