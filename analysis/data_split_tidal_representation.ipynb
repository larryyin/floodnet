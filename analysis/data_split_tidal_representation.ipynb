{
 "cells": [
  {
   "cell_type": "code",
   "execution_count": 1,
   "metadata": {},
   "outputs": [],
   "source": [
    "import os\n",
    "import pandas as pd\n",
    "import numpy as np\n",
    "\n",
    "# To plot pretty figures\n",
    "%matplotlib inline\n",
    "import matplotlib\n",
    "import matplotlib.pyplot as plt\n",
    "plt.rcParams['axes.labelsize'] = 14\n",
    "plt.rcParams['xtick.labelsize'] = 12\n",
    "plt.rcParams['ytick.labelsize'] = 12\n",
    "\n",
    "# Where to save the figures\n",
    "IMAGES_PATH = 'img/'\n",
    "\n",
    "def save_fig(fig_id, tight_layout=True, fig_extension=\"png\", resolution=300):\n",
    "    path = os.path.join(IMAGES_PATH, fig_id + \".\" + fig_extension)\n",
    "    print(\"Saving figure\", fig_id)\n",
    "    if tight_layout:\n",
    "        plt.tight_layout()\n",
    "    plt.savefig(path, format=fig_extension, dpi=resolution)"
   ]
  },
  {
   "cell_type": "code",
   "execution_count": 13,
   "metadata": {},
   "outputs": [],
   "source": [
    "x = np.linspace(0,np.pi*2,1000)\n",
    "y = np.sin(x)\n",
    "\n",
    "y_mean = y.mean()\n",
    "y_std = y.std()"
   ]
  },
  {
   "cell_type": "code",
   "execution_count": 14,
   "metadata": {},
   "outputs": [
    {
     "data": {
      "image/png": "[encoded data removed]",
      "text/plain": [
       "<matplotlib.figure.Figure at 0x7f4989141748>"
      ]
     },
     "metadata": {},
     "output_type": "display_data"
    }
   ],
   "source": [
    "fig, ax = plt.subplots(1, 3, figsize=(20,4))\n",
    "\n",
    "ax[0].plot(x,y,'k-',linewidth=3);\n",
    "ax[0].axhline(0,linestyle=':',color='grey');\n",
    "ax[0].set_xlim([min(x),max(x)]);\n",
    "ax[0].axhline(y_std,linestyle='-',color='red');\n",
    "ax[0].axhline(-y_std,linestyle='-',color='red');\n",
    "for i in range(7):\n",
    "    ax[0].axvline(np.arcsin(y_std)*(i+1))\n",
    "\n",
    "ax[1].hist(y,bins=50);\n",
    "ax[1].axvline(y_std,linestyle='-',color='red');\n",
    "ax[1].axvline(-y_std,linestyle='-',color='red');\n",
    "\n",
    "ax[2].hist(y,bins=50,cumulative=True);\n",
    "ax[2].axvline(y_std,linestyle='-',color='red');\n",
    "ax[2].axvline(-y_std,linestyle='-',color='red');"
   ]
  },
  {
   "cell_type": "code",
   "execution_count": 15,
   "metadata": {},
   "outputs": [
    {
     "name": "stdout",
     "output_type": "stream",
     "text": [
      "y < mean-std:  0.25\n",
      "mean-std <= y < mean+std:  0.5\n",
      "y >= mean+std:  0.25\n",
      "1 section =  0.24984084503038229 (pi)\n"
     ]
    }
   ],
   "source": [
    "print('y < mean-std: ', len(y[(y<-y_std)])/len(y))\n",
    "print('mean-std <= y < mean+std: ', len(y[(y>=-y_std) & (y<y_std)])/len(y))\n",
    "print('y >= mean+std: ', len(y[(y>=y_std)])/len(y))\n",
    "print('1 section = ', np.arcsin(y_std)/np.pi, '(pi)')"
   ]
  },
  {
   "cell_type": "code",
   "execution_count": null,
   "metadata": {},
   "outputs": [],
   "source": []
  },
  {
   "cell_type": "code",
   "execution_count": 10,
   "metadata": {},
   "outputs": [
    {
     "name": "stderr",
     "output_type": "stream",
     "text": [
      "/home/larry/anaconda3/envs/nn/lib/python3.6/site-packages/ipykernel_launcher.py:8: RuntimeWarning: invalid value encountered in less_equal\n",
      "  \n",
      "/home/larry/anaconda3/envs/nn/lib/python3.6/site-packages/ipykernel_launcher.py:9: RuntimeWarning: invalid value encountered in greater\n",
      "  if __name__ == '__main__':\n"
     ]
    }
   ],
   "source": [
    "T_mean = T.groupby('month').mean()\n",
    "T_std = T.groupby('month').std()\n",
    "T_lbound = T_mean-T_std\n",
    "T_hbound = T_mean+T_std\n",
    "T_topbot = np.zeros(T.values[:,:-1].shape).astype(bool)\n",
    "for i in range(1,13):\n",
    "    T_month = T[T['month']==i].values[:,:-1]\n",
    "    T_topbot[T['month']==i] = ((T_month<=np.tile([T_lbound.loc[1].values],[len(T_month),1])) | \n",
    "                                 (T_month>np.tile([T_hbound.loc[1].values],[len(T_month),1])))\n",
    "T_cat = np.tile(T['month'].values.astype(int)*10,(len(T.columns)-1,1)).T+T_topbot.astype(int)"
   ]
  },
  {
   "cell_type": "code",
   "execution_count": 14,
   "metadata": {},
   "outputs": [
    {
     "data": {
      "text/plain": [
       "(86203, 33)"
      ]
     },
     "execution_count": 14,
     "metadata": {},
     "output_type": "execute_result"
    }
   ],
   "source": [
    "T_cat.shape"
   ]
  },
  {
   "cell_type": "code",
   "execution_count": 15,
   "metadata": {},
   "outputs": [
    {
     "data": {
      "text/plain": [
       "(86203, 34)"
      ]
     },
     "execution_count": 15,
     "metadata": {},
     "output_type": "execute_result"
    }
   ],
   "source": [
    "T.shape"
   ]
  },
  {
   "cell_type": "code",
   "execution_count": 26,
   "metadata": {},
   "outputs": [
    {
     "data": {
      "text/plain": [
       "(8784, 34)"
      ]
     },
     "execution_count": 26,
     "metadata": {},
     "output_type": "execute_result"
    }
   ],
   "source": [
    "T[T.index.year==2016].shape"
   ]
  },
  {
   "cell_type": "code",
   "execution_count": 16,
   "metadata": {},
   "outputs": [],
   "source": [
    "from sklearn.model_selection import StratifiedShuffleSplit"
   ]
  },
  {
   "cell_type": "code",
   "execution_count": 29,
   "metadata": {},
   "outputs": [
    {
     "data": {
      "text/plain": [
       "(86203, 33)"
      ]
     },
     "execution_count": 29,
     "metadata": {},
     "output_type": "execute_result"
    }
   ],
   "source": [
    "T.values[:,:-1].shape"
   ]
  },
  {
   "cell_type": "code",
   "execution_count": 30,
   "metadata": {},
   "outputs": [
    {
     "data": {
      "text/plain": [
       "(86203, 33)"
      ]
     },
     "execution_count": 30,
     "metadata": {},
     "output_type": "execute_result"
    }
   ],
   "source": [
    "T_cat.shape"
   ]
  }
 ],
 "metadata": {
  "kernelspec": {
   "display_name": "Python 3",
   "language": "python",
   "name": "python3"
  },
  "language_info": {
   "codemirror_mode": {
    "name": "ipython",
    "version": 3
   },
   "file_extension": ".py",
   "mimetype": "text/x-python",
   "name": "python",
   "nbconvert_exporter": "python",
   "pygments_lexer": "ipython3",
   "version": "3.6.4"
  }
 },
 "nbformat": 4,
 "nbformat_minor": 2
}
